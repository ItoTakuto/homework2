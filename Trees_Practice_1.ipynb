{
 "cells": [
  {
   "cell_type": "markdown",
   "metadata": {},
   "source": [
    "## Problem 0  - Create Node/BinaryTree Class\n",
    "\n",
    "木構造の各要素を表す **Node** クラスと, 二分木を表す **BinaryTree** クラスを実装してみましょう.  "
   ]
  },
  {
   "cell_type": "markdown",
   "metadata": {},
   "source": [
    "### Node Class\n",
    "\n",
    "Nodeクラスは以下の変数を持ち, メソッドは持ちません.  インスタンス生成時には, valには与えられた値を, leftとrightには *None* をセットします.  \n",
    "\n",
    "    1. val: ノードの持つデータ\n",
    "    2. left: 左の子ノードへのポインター\n",
    "    3. right: 右の子ノードへのポインター"
   ]
  },
  {
   "cell_type": "code",
   "execution_count": 2,
   "metadata": {},
   "outputs": [],
   "source": [
    "class Node:\n",
    "    def __init__(self, val):\n",
    "        self.val = val\n",
    "        self.left = None\n",
    "        self.right = None"
   ]
  },
  {
   "cell_type": "markdown",
   "metadata": {},
   "source": [
    "### BinaryTree Class\n",
    "\n",
    "BinaryTreeクラスは以下の変数を持ちます.  \n",
    "\n",
    "    1. root: 根ノードへのポインター"
   ]
  },
  {
   "cell_type": "code",
   "execution_count": 52,
   "metadata": {},
   "outputs": [],
   "source": [
    "class BinaryTree:\n",
    "    def __init__(self,val):\n",
    "        self.root = Node(val)\n",
    "        \n",
    "    def printInOrder(self, root): \n",
    "            if root:\n",
    "                self.printInOrder(root.left)\n",
    "                print(root.val, end=' ')\n",
    "                self.printInOrder(root.right)\n",
    "                \n",
    "    def countNode(self,root):\n",
    "        if root == None:\n",
    "            return None\n",
    "        else:\n",
    "            return bTree.root.val\n",
    "        \n",
    "    def getHeight(self, root):\n",
    "    \n",
    "    \n",
    "    def convertToList(self, root):\n",
    "        if root == None:\n",
    "            return None\n",
    "        else:\n",
    "            return [self.convertToList(root.left), root.val, self.convertToList(root.right)]"
   ]
  },
  {
   "cell_type": "markdown",
   "metadata": {},
   "source": [
    "### Instantiation\n",
    "\n",
    "上記で定義したクラスを用いて, 木構造のインスタンスを生成してみましょう. 　"
   ]
  },
  {
   "cell_type": "code",
   "execution_count": 53,
   "metadata": {},
   "outputs": [
    {
     "name": "stdout",
     "output_type": "stream",
     "text": [
      "Inorder: 8 7 5 11 10 9 3 \n",
      "countNode(): 5\n",
      "convertToList(): [[[None, 8, None], 7, None], 5, [[None, 11, None], 10, [[None, 9, None], 3, None]]]\n"
     ]
    }
   ],
   "source": [
    "# ここにコードを書いてください.\n",
    "bTree = BinaryTree(5)\n",
    "bTree.root.left = Node(7)\n",
    "bTree.root.right = Node(10)\n",
    "bTree.root.left.left = Node(8)\n",
    "bTree.root.right.left = Node(11)\n",
    "bTree.root.right.right = Node(3)\n",
    "bTree.root.right.right.left = Node(9)\n",
    "print('Inorder:', end=' ')\n",
    "bTree.printInOrder(bTree.root)\n",
    "print()\n",
    "\n",
    "print('countNode():', bTree.countNode(bTree.root))\n",
    "\n",
    "\n",
    "#4#\n",
    "print('convertToList():', bTree.convertToList(bTree.root))"
   ]
  },
  {
   "cell_type": "markdown",
   "metadata": {},
   "source": [
    "## Problem 1 - More on Binary Tree\n",
    "\n",
    "上記の **BinaryTreeクラス** 内に, 以下のメソッドを実装してみましょう.  \n",
    "\n",
    "### #1: **countNode()**  \n",
    "\n",
    "    二分木のノード数を返す関数\n",
    "\n",
    "### #2: **getHeight()**\n",
    "\n",
    "    二分木の高さ(指定されたノードから葉ノードまでの辺の数の最大値)を返す関数\n",
    "\n",
    "### #3:  **existsAt(a)**\n",
    "\n",
    "    与えられた値 a が木の中に存在する場合はそのレベル数(根ノードをレベル0とする)を, 存在しない場合は False を返す関数\n",
    "    \n",
    "### #4: **convertToList()**\n",
    "\n",
    "    木構造を多重リストに変換する関数 (各リストは3つずつ値を格納する)"
   ]
  },
  {
   "cell_type": "markdown",
   "metadata": {},
   "source": [
    "## Problem 2 - BST (Binary Search Tree)\n",
    "\n",
    "Nodeクラスを用いて **BSTクラス** (Binary Search Tree・二分探索木) を作成し, 以下の基本操作を実装してみましょう.  \n",
    "\n",
    "### #1: **search(a)**  \n",
    "\n",
    "    BST中に与えられた値 a があれば True を, 無ければ False を返す関数\n",
    "\n",
    "### #2: **insert(a)**\n",
    "\n",
    "    BST内の適切な場所に与えられた値 a を挿入する関数\n",
    "    \n",
    "### #3: **findMin()**\n",
    "\n",
    "    BST内の最小値を持つノード (一番左端のノード) を返す関数\n",
    "\n",
    "### #4:  **delete(a)**\n",
    "\n",
    "    指定された値をBSTから削除する関数  \n",
    "    Hint: 削除されるノードには以下の4パターンがあるため, それぞれのケースの削除方法を考える \n",
    "        1. 子ノードを持たないノード　　\n",
    "        2. 右の子ノードのみを持つノード  \n",
    "        3. 左の子ノードのみを持つノード  \n",
    "        4. 両方の子ノードを持つノード  \n",
    "\n",
    "### #5: **printBST()**\n",
    "\n",
    "    BSTをソートされた順 (昇順) にプリントする関数"
   ]
  },
  {
   "cell_type": "code",
   "execution_count": null,
   "metadata": {},
   "outputs": [],
   "source": [
    "class BST:\n",
    "    pass"
   ]
  },
  {
   "cell_type": "markdown",
   "metadata": {},
   "source": [
    "### Instantiation\n",
    "\n",
    "上記で定義したBSTクラスを用いてクラスのインスタンスを生成し, 実装したメソッドをテストしてみましょう. "
   ]
  },
  {
   "cell_type": "code",
   "execution_count": null,
   "metadata": {},
   "outputs": [],
   "source": [
    "# ここにコードを書いてください."
   ]
  },
  {
   "cell_type": "markdown",
   "metadata": {},
   "source": [
    "## Problem 3 - Binary Heap\n",
    "\n",
    "**Binary Heap (二分ヒープ)** とは,  親ノードと子ノードの値の大小によって定義される完全二分木のことです.  \n",
    "二分ヒープには, 根ノードが最小値である **Min Heap(最小ヒープ)** と, 根ノードが最大値である **Max Heap(最大ヒープ)** の2種類があります.  \n",
    "実装には, 空間計算量の観点から **配列(リスト)** を用いた (i.e. Nodeを用いない) 実装がされることが多いです.  \n",
    "\n",
    "ここでは, 最小二分ヒープを表す **MinBinaryHeapクラス** と, 以下の基本操作を実装してみましょう.  ただし, コンストラクターは以下のセルの通りとします.\n",
    "\n",
    "\n",
    "### #1: **size()**  \n",
    "\n",
    "    二分ヒープ内のノード数を返す関数\n",
    "\n",
    "### #2: **get(i)**\n",
    "\n",
    "    配列におけるi番目のノードを返す関数\n",
    "    \n",
    "### #3: **parent(i)**\n",
    "\n",
    "    配列におけるi番目のノードの親ノードのインデックスを返す関数\n",
    "\n",
    "### #4:  **left(i)**\n",
    "\n",
    "    配列におけるi番目のノードの左の子ノードのインデックスを返す関数 \n",
    "\n",
    "### #5: **right(i)**\n",
    "\n",
    "    配列におけるi番目のノードの右の子ノードのインデックスを返す関数 \n",
    "    \n",
    "### #6: **getMin()**\n",
    "\n",
    "    二分ヒープ内の最小値(つまり根ノードの値)を返す関数\n",
    "    \n",
    "### #7: **minHeapify(i)**\n",
    "\n",
    "    配列におけるi番目のノード以降の並びを, 最小ヒープの性質(親ノード<=子ノード)に基づいて並び替える関数 \n",
    "    \n",
    "### #8: **insert(a)**\n",
    "\n",
    "    与えられた値 a を二分ヒープ内の適切な場所に挿入する関数 \n",
    "    \n",
    "### #9: **deleteMin()**\n",
    "\n",
    "    二分ヒープから最小値(根ノード)を削除し, 必要に応じてノードを並び替える関数 \n",
    "    \n",
    "### #10: **delete(a)**\n",
    "\n",
    "    与えられた値 a を二分ヒープから削除し, 必要に応じてノードを並び替える関数"
   ]
  },
  {
   "cell_type": "code",
   "execution_count": null,
   "metadata": {},
   "outputs": [],
   "source": [
    "class MinBinaryHeap:\n",
    "    # Constructor\n",
    "    def __init__(self):\n",
    "        self.nodes = []"
   ]
  },
  {
   "cell_type": "markdown",
   "metadata": {},
   "source": [
    "### Instantiation\n",
    "\n",
    "上記で定義したMinBinaryHeapクラスを用いてクラスのインスタンスを生成し, 実装したメソッドをテストしてみましょう. "
   ]
  },
  {
   "cell_type": "code",
   "execution_count": null,
   "metadata": {},
   "outputs": [],
   "source": [
    "# ここにコードを書いてください."
   ]
  }
 ],
 "metadata": {
  "kernelspec": {
   "display_name": "Python 3",
   "language": "python",
   "name": "python3"
  },
  "language_info": {
   "codemirror_mode": {
    "name": "ipython",
    "version": 3
   },
   "file_extension": ".py",
   "mimetype": "text/x-python",
   "name": "python",
   "nbconvert_exporter": "python",
   "pygments_lexer": "ipython3",
   "version": "3.7.4"
  }
 },
 "nbformat": 4,
 "nbformat_minor": 2
}
