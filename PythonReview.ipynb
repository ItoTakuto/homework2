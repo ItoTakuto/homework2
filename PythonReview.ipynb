{
 "cells": [
  {
   "cell_type": "markdown",
   "metadata": {},
   "source": [
    "# Python Review"
   ]
  },
  {
   "cell_type": "markdown",
   "metadata": {},
   "source": [
    "### Problem 1 (リスト・関数・条件文)\n",
    "\n",
    "与えられた曜日が休日かどうかを判定する関数 **isHoliday** を定義してください. ただし, 祝日は考慮しないものとします.  \n",
    "\n",
    "Input: Tuesday - Output: False (休日ではないため)  \n",
    "Input: Sunday - Output: True (休日であるため)"
   ]
  },
  {
   "cell_type": "code",
   "execution_count": 5,
   "metadata": {},
   "outputs": [
    {
     "name": "stdout",
     "output_type": "stream",
     "text": [
      "False\n",
      "True\n",
      "False\n",
      "True\n"
     ]
    }
   ],
   "source": [
    "def isHoliday(x):\n",
    "    pass\n",
    "    if x == \"Sunday\" : \n",
    "        return True\n",
    "    elif x == \"Saturday\" :\n",
    "        return True\n",
    "    else :\n",
    "        return False\n",
    "    \n",
    "print(isHoliday('Tuesday'))\n",
    "print(isHoliday('Sunday'))\n",
    "print(isHoliday('Hello'))\n",
    "print(isHoliday(\"Saturday\"))"
   ]
  },
  {
   "cell_type": "markdown",
   "metadata": {},
   "source": [
    "### Problem2 (比較演算子・関数)\n",
    "\n",
    "与えられた実数 *n* が, 基準となる整数値 *t* のプラスマイナス10以内に収まっているかどうかを判定する関数 **isAroundT** を定義してください. \n",
    "\n",
    "Input: n=92, t=100 - Output: True  \n",
    "Input: n=25.4, t=36 - Output: False  \n",
    "Input: n=-10, t=0 - Output: True"
   ]
  },
  {
   "cell_type": "code",
   "execution_count": 22,
   "metadata": {},
   "outputs": [
    {
     "name": "stdout",
     "output_type": "stream",
     "text": [
      "True\n",
      "False\n",
      "True\n"
     ]
    }
   ],
   "source": [
    "def isAroundT(n,t):\n",
    "    pass\n",
    "    if n < (t-10.0)  :\n",
    "        return False\n",
    "    elif n > (t+10.0) :\n",
    "        return False        \n",
    "    else :\n",
    "        return True\n",
    "    \n",
    "print(isAroundT(92, 100))\n",
    "print(isAroundT(25.4, 36))\n",
    "print(isAroundT(-10, 0))"
   ]
  },
  {
   "cell_type": "markdown",
   "metadata": {},
   "source": [
    "### Probelm 3 (関数)\n",
    "\n",
    "与えられた整数の合計を返す関数 **calcSum** を定義してください.  ただし, 引数の数は不定形であるとし, 引数が与えられなかった場合には0を返します.\n",
    "\n",
    "Input: 23, 49, 10 - Output: 82  \n",
    "Input: 12, 2 - Output: 14  \n",
    "Input: N/A - Output: 0"
   ]
  },
  {
   "cell_type": "code",
   "execution_count": 35,
   "metadata": {},
   "outputs": [
    {
     "name": "stdout",
     "output_type": "stream",
     "text": [
      "82\n",
      "14\n",
      "0\n"
     ]
    }
   ],
   "source": [
    "def calcSum(*args):\n",
    "    return sum(args)\n",
    "    \n",
    "print(calcSum(23, 49, 10))\n",
    "print(calcSum(12, 2))\n",
    "print(calcSum())"
   ]
  },
  {
   "cell_type": "markdown",
   "metadata": {},
   "source": [
    "### Problem 4 (Boolean)\n",
    "\n",
    "以下の質問に答え, その結果の正当性をPythonコードを用いて証明してください. ただし, 以下では *True* を **T**, *False* を **F** としています.  \n",
    "\n",
    "not T =  \n",
    "not F =  \n",
    "\n",
    "T and T =  \n",
    "T and F =  \n",
    "F and T =  \n",
    "F and F =  \n",
    "\n",
    "T or T =  \n",
    "T or F =  \n",
    "F or T =  \n",
    "F or F =  \n",
    "\n",
    "T xor T =  \n",
    "T xor F =  \n",
    "F xor T =  \n",
    "F xor F =  \n",
    "\n",
    "(not T) or T =  \n",
    "(not T) or F =  \n",
    "(not F) or T =  \n",
    "(not F) or F =  "
   ]
  },
  {
   "cell_type": "code",
   "execution_count": 43,
   "metadata": {},
   "outputs": [
    {
     "ename": "SyntaxError",
     "evalue": "invalid syntax (<ipython-input-43-76d50d4d17b5>, line 2)",
     "output_type": "error",
     "traceback": [
      "\u001b[0;36m  File \u001b[0;32m\"<ipython-input-43-76d50d4d17b5>\"\u001b[0;36m, line \u001b[0;32m2\u001b[0m\n\u001b[0;31m    not T = **F\u001b[0m\n\u001b[0m             ^\u001b[0m\n\u001b[0;31mSyntaxError\u001b[0m\u001b[0;31m:\u001b[0m invalid syntax\n"
     ]
    }
   ],
   "source": [
    "# ここにコードを書いてください.  \n",
    "not T = **F\n",
    "not F = T*\n",
    "\n",
    "T and T = T*\n",
    "T and F = **F\n",
    "F and T = **F\n",
    "F and F =  **T\n",
    "\n",
    "T or T =  T*\n",
    "T or F =  T*\n",
    "F or T =  T*\n",
    "F or F =  **F\n",
    "\n",
    "T xor T =**F\n",
    "T xor F =T*\n",
    "F xor T =T*\n",
    "F xor F =**F\n",
    "\n",
    "(not T) or T =T*\n",
    "(not T) or F =**F\n",
    "(not F) or T =T*\n",
    "(not F) or F =T*"
   ]
  },
  {
   "cell_type": "markdown",
   "metadata": {},
   "source": [
    "### Problem 5 (クラス/インスタンス・関数・リスト・ループ)\n",
    "\n",
    "Python備え付けのデータ構造であるリストに対するメソッドを, 既存の組み込みメソッドを使わずに再実装してみましょう.  "
   ]
  },
  {
   "cell_type": "code",
   "execution_count": 41,
   "metadata": {},
   "outputs": [],
   "source": [
    "class List():\n",
    "    def __init__(self, elements):\n",
    "        self.elements = elements\n",
    "        \n",
    "    # リストの最初の要素を返す\n",
    "    def first():\n",
    "        pass\n",
    "        return print(List().elements)\n",
    "    \n",
    "    # リストの最後の要素を返す (ただしlen()メソッドは使用禁止)\n",
    "    def last():\n",
    "        pass\n",
    "        return print()\n",
    "    # リストの長さを返す (ただしlen()メソッドは使用禁止)\n",
    "    def findLength():\n",
    "        pass\n",
    "    \n",
    "    # リストの要素を逆にする (ただしreverse()メソッドは使用禁止)\n",
    "    def reverse():\n",
    "        pass\n",
    "    \n",
    "    # 関数を取り, リストの各要素に関数を適用する (pythonのmap関数)\n",
    "    def mapNew():\n",
    "        pass\n",
    "    \n",
    "    # 関数を取り, リストの各要素に関数を適用する (pythonのfilter関数)\n",
    "    def filterNew():\n",
    "        pass"
   ]
  },
  {
   "cell_type": "markdown",
   "metadata": {},
   "source": [
    "続いて, 以下の値を用いて **List** クラスのインスタンスを作成し, 上記のメソッドをテストしてみましょう.  \n",
    "ただし, *mapNew* と *filterNew* で使用する関数は以下の関数とします.\n",
    "\n",
    "```\n",
    "[-3, -6, 0, 5, 1, -9, 4]\n",
    "```"
   ]
  },
  {
   "cell_type": "code",
   "execution_count": 5,
   "metadata": {},
   "outputs": [],
   "source": [
    "# mapNewで用いる関数\n",
    "def squared(x):\n",
    "    return x ** 2\n",
    "\n",
    "# filterNewで用いる関数\n",
    "def isPositive(x):\n",
    "    return x > 0"
   ]
  },
  {
   "cell_type": "code",
   "execution_count": 6,
   "metadata": {},
   "outputs": [],
   "source": [
    "# ここにコードを書いてください.  "
   ]
  },
  {
   "cell_type": "markdown",
   "metadata": {},
   "source": [
    "### Problem 6 (クラス/インスタンス・関数・辞書型・ループ)\n",
    "\n",
    "**Problem5** と同じように, Pythonの辞書型(ディクショナリー)に対する組み込みメソッドのいくつかを再実装してみましょう."
   ]
  },
  {
   "cell_type": "code",
   "execution_count": 7,
   "metadata": {},
   "outputs": [],
   "source": [
    "class Dict():\n",
    "    def __init__(self, keyValues):\n",
    "        self.keyValues = keyValues\n",
    "        \n",
    "    # ディクショナリーのキーのリストを返す\n",
    "    def keys():\n",
    "        pass\n",
    "    \n",
    "    # ディクショナリーの値のリストを返す\n",
    "    def values():\n",
    "        pass\n",
    "    \n",
    "    # 辞書型の長さを返す (何個のkey-valueペアを持っているか)\n",
    "    def findDictLength():\n",
    "        pass\n",
    "    \n",
    "    # 関数を取り, ディクショナリーの各ペアに関数を適用する (pythonのmap関数)\n",
    "    def mapDict():\n",
    "        pass\n",
    "\n",
    "    # 関数を取り, ディクショナリーの各ペアに関数を適用する (pythonのfilter関数)\n",
    "    def filterDict():\n",
    "        pass"
   ]
  },
  {
   "cell_type": "markdown",
   "metadata": {},
   "source": [
    "続いて, 以下の値を用いて **Dict** クラスのインスタンスを作成し, 上記のメソッドをテストしてみましょう.  \n",
    "ただし, *mapNew* と *filterNew* で使用する関数は **Problem5** 内で定義された関数とします.\n",
    "\n",
    "```\n",
    "{'a': -3, 'b': -6, 'c': 0, 'd': 5, 'e': 1, 'f': -9, 'g': 4}\n",
    "```"
   ]
  },
  {
   "cell_type": "code",
   "execution_count": 8,
   "metadata": {},
   "outputs": [],
   "source": [
    "# ここにコードを書いてください.  "
   ]
  },
  {
   "cell_type": "markdown",
   "metadata": {},
   "source": [
    "### Problem 7 (クラス/インスタンス・継承・多重リスト)\n",
    "\n",
    "**Problem5** で定義されたクラス **List** を継承して, 2重リストに対応するクラス **NestedList** を定義してください.  \n",
    "また, 2重リストに対応するように **List** クラスの各メソッドをオーバーライドしてください.  \n",
    "ただし, 新しい処理を実装したい場合は, ヘルパーメソッドを定義してよいとします.  "
   ]
  },
  {
   "cell_type": "code",
   "execution_count": 9,
   "metadata": {},
   "outputs": [],
   "source": [
    "class NestedList():\n",
    "    def __init__(self, elements):\n",
    "        self.elements = elements\n",
    "        \n",
    "    # 2重リストの最初の要素(リスト)の最初の要素を返す\n",
    "    def first():\n",
    "        pass\n",
    "    \n",
    "    # 2重リストの最後の要素(リスト)の最後の要素を返す\n",
    "    def last():\n",
    "        pass\n",
    "    \n",
    "    # 2重リストの要素数を返す (ただしlen()メソッドは使用禁止)\n",
    "    def findLength():\n",
    "        pass\n",
    "    \n",
    "    # リストの要素を逆にし, その中身も逆にする (ただしreverse()メソッドは使用禁止)\n",
    "    def reverse():\n",
    "        pass\n",
    "    \n",
    "    # 関数を取り, リスト内のリストの各要素に関数を適用する (pythonのmap関数)\n",
    "    def mapNew():\n",
    "        pass\n",
    "    \n",
    "    # 関数を取り, リスト内のリストの各要素に関数を適用する (pythonのfilter関数)\n",
    "    def filterNew():\n",
    "        pass"
   ]
  },
  {
   "cell_type": "markdown",
   "metadata": {},
   "source": [
    "続いて, 以下の値を用いて **NestedList** クラスのインスタンスを作成し, 上記のメソッドをテストしてみましょう.  \n",
    "ただし, *mapNew* と *filterNew* で使用する関数は**Problem5** 内で定義された関数とします.  \n",
    "\n",
    "```\n",
    "[\n",
    "    [-3, -6, 0, 5, 1, -9, 4],\n",
    "    [0, -2, 4, 8, -4, 9],\n",
    "    [-3, -1, 5, -9, 8, 7]\n",
    "]\n",
    "```"
   ]
  },
  {
   "cell_type": "code",
   "execution_count": 10,
   "metadata": {},
   "outputs": [],
   "source": [
    "# ここにコードを書いてください.  "
   ]
  }
 ],
 "metadata": {
  "kernelspec": {
   "display_name": "Python 3",
   "language": "python",
   "name": "python3"
  },
  "language_info": {
   "codemirror_mode": {
    "name": "ipython",
    "version": 3
   },
   "file_extension": ".py",
   "mimetype": "text/x-python",
   "name": "python",
   "nbconvert_exporter": "python",
   "pygments_lexer": "ipython3",
   "version": "3.7.3"
  }
 },
 "nbformat": 4,
 "nbformat_minor": 2
}
