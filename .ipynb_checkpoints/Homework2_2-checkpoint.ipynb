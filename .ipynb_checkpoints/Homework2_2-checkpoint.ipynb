{
 "cells": [
  {
   "cell_type": "markdown",
   "metadata": {},
   "source": [
    "# Homework 2 (*vol.2*)\n",
    "\n",
    "#### トピック: 条件文, ループ, リスト, 文字列\n",
    "\n",
    "### Problem 1\n",
    "\n",
    "Built-inメソッドやリストのスライスを使わずに, 与えられた文字列を逆さにする関数 **reverseString()** を定義してください.\n",
    "\n",
    "e.g.)  \n",
    "Input: \"Hello\" - Output: \"olleH\"  \n",
    "Input: \" \" - Output: \" \""
   ]
  },
  {
   "cell_type": "code",
   "execution_count": 25,
   "metadata": {},
   "outputs": [
    {
     "name": "stdout",
     "output_type": "stream",
     "text": [
      "olleH\n"
     ]
    }
   ],
   "source": [
    "def reverseString(s):\n",
    "    sss = \"\"\n",
    "    for i in range(len(s)-1,-1,-1):\n",
    "        sss += s[i]\n",
    "    return sss\n",
    "print(reverseString(\"Hello\"))"
   ]
  },
  {
   "cell_type": "code",
   "execution_count": null,
   "metadata": {},
   "outputs": [],
   "source": []
  },
  {
   "cell_type": "markdown",
   "metadata": {},
   "source": [
    "### Problem 2\n",
    "\n",
    "2つのリストが与えられたとき, そのリストの共通の要素をリストとして返す関数 **findDuplicates()** を定義してください.\n",
    "\n",
    "e.g.)  \n",
    "Input: [1, 2, 3], [6, 3, 1] - Output: [1, 3]  \n",
    "Input: [], [4, 2, 9] - Output: []"
   ]
  },
  {
   "cell_type": "code",
   "execution_count": null,
   "metadata": {},
   "outputs": [],
   "source": [
    "def findDuplicates(x,y):\n",
    "    l = [] \n",
    "    for i in range (len(x,y))\n",
    "        \n",
    "        print( findDuplicates([1,2,3],[6,3,1]))"
   ]
  },
  {
   "cell_type": "markdown",
   "metadata": {},
   "source": [
    "### Problem 3\n",
    "\n",
    "与えられた文字列が回文であるか(どちらから読んでも同じ文字列)を判別する関数 **isPalindrome()** を定義してください.  \n",
    "ただし, 与えられた文字列をソートせずにアルゴリズムを実装してみてください.\n",
    "\n",
    "e.g.)  \n",
    "Input: \"abcba\" - Output: True  \n",
    "Input: \"abc\" - Output: False  \n",
    "Input: \"a\" - Output: True"
   ]
  },
  {
   "cell_type": "code",
   "execution_count": null,
   "metadata": {},
   "outputs": [],
   "source": [
    "def isPalindrome(z):\n",
    "    for i in range(len(z))\n",
    "        "
   ]
  },
  {
   "cell_type": "markdown",
   "metadata": {},
   "source": [
    "### Problem 4\n",
    "\n",
    "ユークリッドの互除法 (https://ja.wikipedia.org/wiki/ユークリッドの互除法) を用いて, 与えられた2つの整数の最大公約数を求める関数 **gcd()** を定義してください.\n",
    "\n",
    "e.g.)  \n",
    "Input: 1071, 1029 - Output: 21"
   ]
  },
  {
   "cell_type": "code",
   "execution_count": 26,
   "metadata": {},
   "outputs": [
    {
     "name": "stdout",
     "output_type": "stream",
     "text": [
      "21\n",
      "1\n"
     ]
    }
   ],
   "source": [
    "def gcd(x,y):\n",
    "    if y == 0:\n",
    "        return x\n",
    "    else :\n",
    "        return gcd(y,x % y)\n",
    "print(gcd(1071,1029))\n",
    "print(gcd(13293,7264))"
   ]
  },
  {
   "cell_type": "markdown",
   "metadata": {},
   "source": [
    "### Problem 5\n",
    "\n",
    "与えられた数が偶数であるか, 奇数であるか, 素数であるかを判別する関数 **evenOddPrime()** を定義してください.  \n",
    "ただし, 奇数であり素数でもある場合もあることに注意し(e.g. 3), 負の数が与えられた場合には **\"Negative\"** という文字列をプリントし, 計算量は考慮しないものとします(つまり動けばよいということ).\n",
    "\n",
    "e.g.)  \n",
    "Input: 28 - Output: \"Even\"  \n",
    "Input: -1 - Output: \"Negative\"  \n",
    "Input: 17 - Output: \"Odd\", \"Prime\""
   ]
  },
  {
   "cell_type": "code",
   "execution_count": 27,
   "metadata": {},
   "outputs": [
    {
     "name": "stdout",
     "output_type": "stream",
     "text": [
      "Even\n",
      "Negative\n",
      "Odd,Prime\n",
      "Odd,Prime\n"
     ]
    }
   ],
   "source": [
    "def evenOddPrime(x):\n",
    "    if ( x < 0 ): return \"Negative\"\n",
    "    for i in range(2,x-1):\n",
    "        if (x > 0 and x % 2 == 0 ):\n",
    "            return \"Even\"\n",
    "        elif (x > 0 and  x % 2 == 1and x % i == 0):\n",
    "            return \"Odd\"\n",
    "        elif (x > 0 and  x % 2 == 1and x % i !=0 ):\n",
    "            return \"Odd,Prime\"\n",
    "        elif (x == 0):\n",
    "            return \"Zero\"\n",
    "     \n",
    "print(evenOddPrime(28))\n",
    "print(evenOddPrime(-1))\n",
    "print(evenOddPrime(13))\n",
    "print(evenOddPrime(15))"
   ]
  },
  {
   "cell_type": "markdown",
   "metadata": {},
   "source": [
    "### Problem 6\n",
    "\n",
    "与えられた整数のリストを小さい順に並び替える(ソートする)関数 **simpleSort()** を定義してください.  \n",
    "ソートに使用するアルゴリズムはどのようなものでも構いませんが, 調べずに自分の頭で考えてアルゴリズムをコードで表してみてください.\n",
    "\n",
    "e.g.)  \n",
    "Input: [4, 1, 9, 5, 3] - Output: [1, 3, 4, 5, 9]"
   ]
  },
  {
   "cell_type": "code",
   "execution_count": null,
   "metadata": {},
   "outputs": [],
   "source": [
    "def simpleSort():\n",
    "    pass"
   ]
  },
  {
   "cell_type": "markdown",
   "metadata": {},
   "source": [
    "### Problem 7 (Excerpt from \"Cracking the Coding Interview\")\n",
    "\n",
    "与えられた文字列が他の文字列の一部(substring)であるかを判定する関数 **isSubstring()** が以下のように定義されているとします.  \n",
    "この関数 **isSubstring()** を**一回のみ**呼び出して, 2つの文字列 s1, s2 を引数に取り, s2がs1を1回転させたものであるかを判定する関数 **isRotation()** を定義してください.\n",
    "\n",
    "e.g.)  \n",
    "Input: \"waterbottle\", \"erbottlewat\" - Output: True    \n",
    "Input: \"waterbottle\", \"botterlewat\" - Output: False"
   ]
  },
  {
   "cell_type": "code",
   "execution_count": null,
   "metadata": {},
   "outputs": [],
   "source": [
    "def isSubstring(s1, s2):\n",
    "    return s1 in s2\n",
    "\n",
    "def isRotation():\n",
    "    pass"
   ]
  }
 ],
 "metadata": {
  "kernelspec": {
   "display_name": "Python 3",
   "language": "python",
   "name": "python3"
  },
  "language_info": {
   "codemirror_mode": {
    "name": "ipython",
    "version": 3
   },
   "file_extension": ".py",
   "mimetype": "text/x-python",
   "name": "python",
   "nbconvert_exporter": "python",
   "pygments_lexer": "ipython3",
   "version": "3.7.3"
  }
 },
 "nbformat": 4,
 "nbformat_minor": 2
}
