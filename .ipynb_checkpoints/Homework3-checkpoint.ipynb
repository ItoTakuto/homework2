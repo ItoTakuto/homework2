{
 "cells": [
  {
   "cell_type": "markdown",
   "metadata": {},
   "source": [
    "# Homework 3\n",
    "\n",
    "#### トピック: 前回までの復習(関数, 条件文, ループ, リスト, 文字列など), タプル, セット, ディクショナリー, ファイル入出力\n",
    "\n",
    "### Problem 1\n",
    "\n",
    "N桁までの完全数(Perfect Number)をリストとして返す関数 **findPerfectNum()** を定義してください.  \n",
    "\n",
    "e.g.)  \n",
    "Input: 3 - Output: [6, 28, 496]"
   ]
  },
  {
   "cell_type": "code",
   "execution_count": 40,
   "metadata": {},
   "outputs": [
    {
     "ename": "IndentationError",
     "evalue": "unindent does not match any outer indentation level (<tokenize>, line 4)",
     "output_type": "error",
     "traceback": [
      "\u001b[0;36m  File \u001b[0;32m\"<tokenize>\"\u001b[0;36m, line \u001b[0;32m4\u001b[0m\n\u001b[0;31m    def PerfectNum(x):\u001b[0m\n\u001b[0m    ^\u001b[0m\n\u001b[0;31mIndentationError\u001b[0m\u001b[0;31m:\u001b[0m unindent does not match any outer indentation level\n"
     ]
    }
   ],
   "source": [
    "def findPerfectNum(n):\n",
    "        l = []\n",
    "        s = 0\n",
    "    def PerfectNum(x):\n",
    "        for i in range (x):\n",
    "            if x % i == 0 :\n",
    "                s += i :    \n",
    "                if s == x :\n",
    "    for i in range (len(l)):\n",
    "        \n",
    "print(PerfectNum(10000))        \n",
    "print(findPerfectNum(3))"
   ]
  },
  {
   "cell_type": "markdown",
   "metadata": {},
   "source": [
    "### Problem 2\n",
    "\n",
    "複数のリストを格納するタプル(e.g. ([1, 2], [3, 4]))が与えられたときに, 各リストの長さをキーとして持ち, そのリスト自体を値として持つディクショナリーを返す関数 **listToDict()** を定義してください.  \n",
    "ただし, 与えられたタプルが空の場合には空のディクショナリーを返します.  \n",
    "\n",
    "e.g.)  \n",
    "Input: ([1, 6], [3, 5, 8, 1, 0], [2]) - Output: {2: [1, 6], 5: [3, 5, 8, 1, 0], 1: [2]}  \n",
    "Input: () - Output: {}"
   ]
  },
  {
   "cell_type": "code",
   "execution_count": 16,
   "metadata": {},
   "outputs": [],
   "source": [
    "def listToDict(x,y,z):\n",
    "    for i in range "
   ]
  },
  {
   "cell_type": "markdown",
   "metadata": {},
   "source": [
    "### Problem 3 (Two Sums)\n",
    "\n",
    "ある整数のリストと一つの値(ターゲット)が与えられたとき, 足すとターゲットと等しくなるようなリスト内の2つの整数の組み合わせのインデックスを求めてください. そのような整数の組み合わせが複数ある場合は任意の一組のみを返し, 組み合わせが存在しない場合は, Falseを返してください.  \n",
    "\n",
    "e.g.)  \n",
    "Input: [2, 7, 11, 15], 9 - Output: [0, 1]"
   ]
  },
  {
   "cell_type": "code",
   "execution_count": 17,
   "metadata": {},
   "outputs": [
    {
     "name": "stdout",
     "output_type": "stream",
     "text": [
      "[0, 1]\n"
     ]
    }
   ],
   "source": [
    "def twoSum(x,y):\n",
    "    for i in range(len(x)):\n",
    "        for n in range(i+1,len(x)):\n",
    "            if (y - x[i]) == x[n] :\n",
    "                return [i,n]\n",
    "    else :\n",
    "        return False\n",
    "            \n",
    "print(twoSum([2,7,11,15],9))"
   ]
  },
  {
   "cell_type": "code",
   "execution_count": 29,
   "metadata": {},
   "outputs": [
    {
     "name": "stdout",
     "output_type": "stream",
     "text": [
      "False\n"
     ]
    }
   ],
   "source": [
    "def TwoSum(x,y):\n",
    "    d  = {}\n",
    "    if len(x) <2:\n",
    "        return False\n",
    "    for i in range(len(x)):\n",
    "        q = x[i]\n",
    "        pare = y - x[i] \n",
    "        if pare in d :\n",
    "            return [d[pare],i]\n",
    "        d[q] = i \n",
    "    else : \n",
    "        return False\n",
    "print(TwoSum([2],2))"
   ]
  },
  {
   "cell_type": "markdown",
   "metadata": {},
   "source": [
    "### Problem 4 (Three Sums)\n",
    "\n",
    "ある整数のリストが与えられたとき, 足すと0になるようなリスト内の3つの整数の組み合わせを全て列挙してください. そのような組み合わせが複数ある場合には組み合わせのリストを, 組み合わせが存在しない場合にはFalseを返してください.  \n",
    "\n",
    "e.g.)  \n",
    "Input: [-1, 0, 1, 2, -1, -4] - Output: [[-1, 0, 1], [-1, -1, 2]]  \n",
    "Input: [1, 3, -2, 4] - Output: False"
   ]
  },
  {
   "cell_type": "code",
   "execution_count": 181,
   "metadata": {},
   "outputs": [
    {
     "name": "stdout",
     "output_type": "stream",
     "text": [
      "[-1, 0, 1]\n",
      "False\n",
      "False\n"
     ]
    }
   ],
   "source": [
    "def threeSum(x):\n",
    "    l = []\n",
    "    m= []\n",
    "    n= []\n",
    "    if len(x) < 3:\n",
    "        return False\n",
    "    for i in range (len(x)):\n",
    "        for n in range (i+1,len(x)):\n",
    "            for g in range(n+1,len(x)):\n",
    "                if x[i] + x[n] + x[g] == 0 :\n",
    "                    l.append(x[i])\n",
    "                    l.append(x[n])\n",
    "                    l.append(x[g])\n",
    "                    return l\n",
    "                    \n",
    "                else :\n",
    "                    return False\n",
    "        \n",
    "print(threeSum([-1,0,1,2,-1,-4]))\n",
    "print(threeSum([1,3,-2,4]))\n",
    "print(threeSum([1,-1]))"
   ]
  },
  {
   "cell_type": "markdown",
   "metadata": {},
   "source": [
    "### Problem 5 (Valid Parenthesis)\n",
    "\n",
    "カッコの並びが正しいかどうかを判断する関数 **isValidParenthesis()** を定義してください.  \n",
    "有効なカッコの組み合わせであるためには, 始まりのカッコと終わりのカッコの種類は一致していなければならず, またカッコの数も一致していなければなりません。  \n",
    "\n",
    "e.g.)  \n",
    "Input: () - Output: True  \n",
    "Input: [({})] - Output: True  \n",
    "Input: [(]) - Output: False  \n",
    "Input: {()[} - Output: False"
   ]
  },
  {
   "cell_type": "code",
   "execution_count": 45,
   "metadata": {},
   "outputs": [
    {
     "name": "stdout",
     "output_type": "stream",
     "text": [
      "True\n",
      "True\n",
      "False\n",
      "False\n",
      "False\n"
     ]
    }
   ],
   "source": [
    "def isValidParenthesis(x):\n",
    "    if len(x) % 2 == 1:\n",
    "        return False\n",
    "    l = []\n",
    "    m = \"({[\"\n",
    "    n = \")}]\"\n",
    "    o = []\n",
    "    for i in x :\n",
    "        if i in m :  \n",
    "            l.append(i)\n",
    "            o.append(m.index(i))\n",
    "        elif i in n :\n",
    "            try:\n",
    "                if n.index(i) == o[-1]:\n",
    "                    l.pop()\n",
    "                    o.pop()\n",
    "                else :\n",
    "                    return False\n",
    "            except:\n",
    "                return False\n",
    "    return True\n",
    "print(isValidParenthesis(\"()\"))\n",
    "print(isValidParenthesis(\"[({})]\"))\n",
    "print(isValidParenthesis(\"[(]) \"))\n",
    "print(isValidParenthesis(\"{()[}\"))\n",
    "print(isValidParenthesis(\"][\"))"
   ]
  },
  {
   "cell_type": "markdown",
   "metadata": {},
   "source": [
    "### Problem 6 (Merging Two Sorted Lists)\n",
    "\n",
    "2つのソート済みのリストが与えられたときに, それらを1つのソートされたリストにする関数 **mergeSortedLists()** を定義してください. ただし, Pythonの組み込み関数である*sort()*や*sorted()*を**用いてはなりません**.  \n",
    "\n",
    "e.g.)  \n",
    "Input: [1, 2, 5], [1, 3, 4] - Output: [1, 1, 2, 3, 4, 5]  "
   ]
  },
  {
   "cell_type": "code",
   "execution_count": 131,
   "metadata": {},
   "outputs": [
    {
     "ename": "SyntaxError",
     "evalue": "invalid syntax (<ipython-input-131-e2645d144eb5>, line 13)",
     "output_type": "error",
     "traceback": [
      "\u001b[0;36m  File \u001b[0;32m\"<ipython-input-131-e2645d144eb5>\"\u001b[0;36m, line \u001b[0;32m13\u001b[0m\n\u001b[0;31m    if ( l[n] =< n ) :\u001b[0m\n\u001b[0m              ^\u001b[0m\n\u001b[0;31mSyntaxError\u001b[0m\u001b[0;31m:\u001b[0m invalid syntax\n"
     ]
    }
   ],
   "source": [
    "def mergeSortedLists(x,y):\n",
    "    l = []\n",
    "    o = []\n",
    "    for i in range (len(x)):\n",
    "        if x != []:\n",
    "            l.append(x[i])\n",
    "    for m in range (len(y)):\n",
    "        if y != []:\n",
    "            l.append(y[m])\n",
    "            \n",
    "    for n in range(len(l)):\n",
    "        \n",
    "        if ( l[n] =< n ) :\n",
    "             o.append(l[n])\n",
    "        return o\n",
    "print(mergeSortedLists([1,2,5],[1,3,4]))"
   ]
  },
  {
   "cell_type": "markdown",
   "metadata": {},
   "source": [
    "### Problem 7\n",
    "\n",
    "与えられた金額(予算)で買える品物の最高合計金額を計算するプログラムを作成してください. ただし, 入力値は`prices.txt`とします.  \n",
    "テキストファイルにはサンプルの入力値が記されており, フォーマットは以下の通りとなります.  \n",
    "\n",
    "1行目: タイトル  \n",
    "2行目: 空行  \n",
    "3行目以降: X(予算) --> 品物数 --> 品物の名前とその金額  \n",
    "\n",
    "また, 各品物は最大2つまで買うことができるとし, サンプルの入力値は空行で分けられているとします (詳しくはファイルを参照).  \n",
    "プログラムの動作確認のため, 自分でテストコードを付け足してもよいとしますが, まずは元からある入力値のみで動くプログラムを作成することを目標にしてください.  \n",
    "\n",
    "e.g.)  \n",
    "Input (`prices.txt`より抜粋):  \n",
    "\n",
    "1000    <-- 予算  \n",
    "3       <-- 品物数  \n",
    "A 450   <-- 品物の名前と値段   \n",
    "B 250   <-- 品物の名前と値段  \n",
    "C 500   <-- 品物の名前と値段  \n",
    "\n",
    "Output:  \n",
    "\n",
    "1000 <-- つまり, Cを2つ買った場合"
   ]
  },
  {
   "cell_type": "code",
   "execution_count": 126,
   "metadata": {},
   "outputs": [
    {
     "ename": "SyntaxError",
     "evalue": "Missing parentheses in call to 'print'. Did you mean print(contents)? (<ipython-input-126-f3c2beba9581>, line 3)",
     "output_type": "error",
     "traceback": [
      "\u001b[0;36m  File \u001b[0;32m\"<ipython-input-126-f3c2beba9581>\"\u001b[0;36m, line \u001b[0;32m3\u001b[0m\n\u001b[0;31m    print contents\u001b[0m\n\u001b[0m                 ^\u001b[0m\n\u001b[0;31mSyntaxError\u001b[0m\u001b[0;31m:\u001b[0m Missing parentheses in call to 'print'. Did you mean print(contents)?\n"
     ]
    }
   ],
   "source": [
    "prices_data  = open\n",
    "lines = prices_data.read()\n",
    "print contents"
   ]
  },
  {
   "cell_type": "code",
   "execution_count": null,
   "metadata": {},
   "outputs": [],
   "source": []
  }
 ],
 "metadata": {
  "kernelspec": {
   "display_name": "Python 3",
   "language": "python",
   "name": "python3"
  },
  "language_info": {
   "codemirror_mode": {
    "name": "ipython",
    "version": 3
   },
   "file_extension": ".py",
   "mimetype": "text/x-python",
   "name": "python",
   "nbconvert_exporter": "python",
   "pygments_lexer": "ipython3",
   "version": "3.7.3"
  }
 },
 "nbformat": 4,
 "nbformat_minor": 2
}
