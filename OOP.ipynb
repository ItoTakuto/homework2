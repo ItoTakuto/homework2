{
 "cells": [
  {
   "cell_type": "markdown",
   "metadata": {},
   "source": [
    "# Practice Problems\n",
    "\n",
    "#### トピック: オブジェクト指向プログラミング(クラスとインスタンス)\n",
    "\n",
    "### Problem 1\n",
    "\n",
    "クラス **Student** を定義してください. **Student** クラスの持つ属性は以下の通りです.  \n",
    "```\n",
    "ID(ID): \n",
    "name(名前): \n",
    "score(点数): \n",
    "```\n",
    "\n",
    "クラスの定義が完了したら, そのクラスを用いて以下の5つのインスタンスを作成してください.  \n",
    "```\n",
    "s1: 1 - \"A\" - 83  \n",
    "s2: 2 - \"B\" - 80 \n",
    "s3: 3 - \"C\" - 93  \n",
    "s4: 4 - \"D\" - 79  \n",
    "s5: 5 - \"E\" - 87  \n",
    "```"
   ]
  },
  {
   "cell_type": "code",
   "execution_count": 23,
   "metadata": {},
   "outputs": [],
   "source": [
    "class Student:\n",
    "    \n",
    "    def __init__(self, ID, name, score):\n",
    "        self.ID = ID\n",
    "        self.name = name\n",
    "        self.score = score\n",
    "\n",
    "s1 =Student(1, \"A\", 83)\n",
    "s2 =Student(2, \"B\", 80)\n",
    "s3 =Student(3, \"C\", 93)\n",
    "s4 =Student(4, \"D\", 79)\n",
    "s5 =Student(5, \"E\", 87)\n"
   ]
  },
  {
   "cell_type": "markdown",
   "metadata": {},
   "source": [
    "### Problem 2\n",
    "\n",
    "生徒のテストの点数を記録し, 基本的な統計を取る **AutoGrader** クラスを定義してください. **AutoGrader** クラスの持つ属性は以下の通りです.  \n",
    "```\n",
    "name(プログラムの名称):  \n",
    "scores(各生徒の点数を格納したリスト):  \n",
    "calcAverage(平均を計算する関数):  \n",
    "calcMax(最高点を計算する関数):\n",
    "calcMin(最低点を計算する関数):\n",
    "```\n",
    "クラスの定義が完了したら, そのクラスを用いて以下のインスタンスを作成し, calcAverage/calcMax/calcMinを実行してください.  \n",
    "ただし, 生徒の情報は *Problem1* で作成したものを使うとします.  "
   ]
  },
  {
   "cell_type": "code",
   "execution_count": 25,
   "metadata": {},
   "outputs": [
    {
     "name": "stdout",
     "output_type": "stream",
     "text": [
      "m 84.4\n",
      "m 93\n",
      "m 79\n"
     ]
    }
   ],
   "source": [
    "class AutoGrader():\n",
    "    def __init__(self, name, scores):\n",
    "        self.name = name\n",
    "        self.scores = scores\n",
    "    \n",
    "    def calcAverage(self):\n",
    "        return sum(self.scores) / len(self.scores)\n",
    "        \n",
    "    def calcMax(self):\n",
    "        return max(self.scores)\n",
    "    \n",
    "    def calcMin(self):\n",
    "        return min(self.scores)\n",
    "        \n",
    "ag = AutoGrader('ag1',[s1.score, s2.score, s3.score, s4.score, s5.score])\n",
    "\n",
    "print('m',ag.calcAverage())\n",
    "print('m',ag.calcMax())\n",
    "print('m',ag.calcMin())"
   ]
  },
  {
   "cell_type": "markdown",
   "metadata": {},
   "source": [
    "### Problem 3\n",
    "\n",
    "*Problem1* と *Problem2* で作成したクラスを改変して, 複数科目のテストの統計情報を計算するクラス **StudentNew** と **AutoGraderNew** を定義してください.  \n",
    "実装方法は自由としますが, **StudentNew** クラスのインスタンスは以下のように初期化するものとします.  \n",
    "```\n",
    "s1: 1 - \"A\" - [83, 79, 95]  \n",
    "s2: 2 - \"B\" - [80, 78, 89] \n",
    "s3: 3 - \"C\" - [93, 68, 98] \n",
    "s4: 4 - \"D\" - [79, 90, 86]  \n",
    "s5: 5 - \"E\" - [87, 80, 81] \n",
    "```"
   ]
  },
  {
   "cell_type": "code",
   "execution_count": 30,
   "metadata": {},
   "outputs": [],
   "source": [
    "class StudentNew:\n",
    "    def __init__(self, ID, name, VariableScore ):\n",
    "        self.ID = ID\n",
    "        self.name = name\n",
    "        self.VariableScore = VariableScore\n",
    "    \n",
    "s1 = StudentNew(1, \"A\", [83, 79,95])\n",
    "s2 = StudentNew(2, \"B\", [80, 78, 89])\n",
    "s3 = StudentNew(3, \"C\", [93, 68, 98])\n",
    "s4 = StudentNew(4, \"D\", [79, 90, 86])\n",
    "s5 = StudentNew(5, \"E\", [87, 80, 81])\n",
    "     "
   ]
  },
  {
   "cell_type": "code",
   "execution_count": 42,
   "metadata": {},
   "outputs": [
    {
     "ename": "TypeError",
     "evalue": "unsupported operand type(s) for +: 'int' and 'list'",
     "output_type": "error",
     "traceback": [
      "\u001b[0;31m---------------------------------------------------------------------------\u001b[0m",
      "\u001b[0;31mTypeError\u001b[0m                                 Traceback (most recent call last)",
      "\u001b[0;32m<ipython-input-42-3a017c832483>\u001b[0m in \u001b[0;36m<module>\u001b[0;34m\u001b[0m\n\u001b[1;32m      9\u001b[0m \u001b[0mAGN\u001b[0m \u001b[0;34m=\u001b[0m \u001b[0mAutoGraderNew\u001b[0m\u001b[0;34m(\u001b[0m\u001b[0;34m\"AGN\"\u001b[0m\u001b[0;34m,\u001b[0m \u001b[0;34m[\u001b[0m \u001b[0ms1\u001b[0m\u001b[0;34m.\u001b[0m\u001b[0mVariableScore\u001b[0m\u001b[0;34m,\u001b[0m \u001b[0ms2\u001b[0m\u001b[0;34m.\u001b[0m\u001b[0mVariableScore\u001b[0m\u001b[0;34m,\u001b[0m \u001b[0ms3\u001b[0m\u001b[0;34m.\u001b[0m\u001b[0mVariableScore\u001b[0m\u001b[0;34m,\u001b[0m \u001b[0ms4\u001b[0m\u001b[0;34m.\u001b[0m\u001b[0mVariableScore\u001b[0m\u001b[0;34m,\u001b[0m \u001b[0ms5\u001b[0m\u001b[0;34m.\u001b[0m\u001b[0mVariableScore\u001b[0m\u001b[0;34m]\u001b[0m\u001b[0;34m)\u001b[0m\u001b[0;34m\u001b[0m\u001b[0;34m\u001b[0m\u001b[0m\n\u001b[1;32m     10\u001b[0m \u001b[0;34m\u001b[0m\u001b[0m\n\u001b[0;32m---> 11\u001b[0;31m \u001b[0mprint\u001b[0m\u001b[0;34m(\u001b[0m\u001b[0;34m'm'\u001b[0m\u001b[0;34m,\u001b[0m\u001b[0mAGN\u001b[0m\u001b[0;34m.\u001b[0m\u001b[0mCalcAverageNew\u001b[0m\u001b[0;34m(\u001b[0m\u001b[0;34m)\u001b[0m\u001b[0;34m)\u001b[0m\u001b[0;34m\u001b[0m\u001b[0;34m\u001b[0m\u001b[0m\n\u001b[0m",
      "\u001b[0;32m<ipython-input-42-3a017c832483>\u001b[0m in \u001b[0;36mCalcAverageNew\u001b[0;34m(self)\u001b[0m\n\u001b[1;32m      5\u001b[0m \u001b[0;34m\u001b[0m\u001b[0m\n\u001b[1;32m      6\u001b[0m     \u001b[0;32mdef\u001b[0m \u001b[0mCalcAverageNew\u001b[0m\u001b[0;34m(\u001b[0m\u001b[0mself\u001b[0m\u001b[0;34m)\u001b[0m\u001b[0;34m:\u001b[0m\u001b[0;34m\u001b[0m\u001b[0;34m\u001b[0m\u001b[0m\n\u001b[0;32m----> 7\u001b[0;31m         \u001b[0;32mreturn\u001b[0m \u001b[0msum\u001b[0m\u001b[0;34m(\u001b[0m\u001b[0mself\u001b[0m\u001b[0;34m.\u001b[0m\u001b[0mscores\u001b[0m\u001b[0;34m[\u001b[0m\u001b[0;34m:\u001b[0m\u001b[0;34m]\u001b[0m\u001b[0;34m)\u001b[0m \u001b[0;34m/\u001b[0m \u001b[0msum\u001b[0m\u001b[0;34m(\u001b[0m\u001b[0mlen\u001b[0m\u001b[0;34m[\u001b[0m\u001b[0mself\u001b[0m\u001b[0;34m.\u001b[0m\u001b[0mscores\u001b[0m\u001b[0;34m]\u001b[0m\u001b[0;34m)\u001b[0m\u001b[0;34m\u001b[0m\u001b[0;34m\u001b[0m\u001b[0m\n\u001b[0m\u001b[1;32m      8\u001b[0m \u001b[0;34m\u001b[0m\u001b[0m\n\u001b[1;32m      9\u001b[0m \u001b[0mAGN\u001b[0m \u001b[0;34m=\u001b[0m \u001b[0mAutoGraderNew\u001b[0m\u001b[0;34m(\u001b[0m\u001b[0;34m\"AGN\"\u001b[0m\u001b[0;34m,\u001b[0m \u001b[0;34m[\u001b[0m \u001b[0ms1\u001b[0m\u001b[0;34m.\u001b[0m\u001b[0mVariableScore\u001b[0m\u001b[0;34m,\u001b[0m \u001b[0ms2\u001b[0m\u001b[0;34m.\u001b[0m\u001b[0mVariableScore\u001b[0m\u001b[0;34m,\u001b[0m \u001b[0ms3\u001b[0m\u001b[0;34m.\u001b[0m\u001b[0mVariableScore\u001b[0m\u001b[0;34m,\u001b[0m \u001b[0ms4\u001b[0m\u001b[0;34m.\u001b[0m\u001b[0mVariableScore\u001b[0m\u001b[0;34m,\u001b[0m \u001b[0ms5\u001b[0m\u001b[0;34m.\u001b[0m\u001b[0mVariableScore\u001b[0m\u001b[0;34m]\u001b[0m\u001b[0;34m)\u001b[0m\u001b[0;34m\u001b[0m\u001b[0;34m\u001b[0m\u001b[0m\n",
      "\u001b[0;31mTypeError\u001b[0m: unsupported operand type(s) for +: 'int' and 'list'"
     ]
    }
   ],
   "source": [
    "class AutoGraderNew:\n",
    "    def __init__(self, name, scores):\n",
    "        self.name = name\n",
    "        self.scores = scores\n",
    "    \n",
    "    def CalcAverageNew(self):\n",
    "        return sum(self.scores[:]) / sum(len[self.scores])\n",
    "\n",
    "AGN = AutoGraderNew(\"AGN\", [ s1.VariableScore, s2.VariableScore, s3.VariableScore, s4.VariableScore, s5.VariableScore])\n",
    "\n",
    "print('m',AGN.CalcAverageNew())\n"
   ]
  },
  {
   "cell_type": "code",
   "execution_count": null,
   "metadata": {},
   "outputs": [],
   "source": []
  }
 ],
 "metadata": {
  "kernelspec": {
   "display_name": "Python 3",
   "language": "python",
   "name": "python3"
  },
  "language_info": {
   "codemirror_mode": {
    "name": "ipython",
    "version": 3
   },
   "file_extension": ".py",
   "mimetype": "text/x-python",
   "name": "python",
   "nbconvert_exporter": "python",
   "pygments_lexer": "ipython3",
   "version": "3.7.4"
  }
 },
 "nbformat": 4,
 "nbformat_minor": 2
}
